{
 "cells": [
  {
   "cell_type": "code",
   "execution_count": 1,
   "id": "e29fa478",
   "metadata": {},
   "outputs": [
    {
     "name": "stdout",
     "output_type": "stream",
     "text": [
      "Requirement already satisfied: numpy in c:\\users\\mcuf8\\appdata\\local\\programs\\python\\python310\\lib\\site-packages (1.23.4)\n",
      "Requirement already satisfied: pandas in c:\\users\\mcuf8\\appdata\\local\\programs\\python\\python310\\lib\\site-packages (1.5.0)\n",
      "Requirement already satisfied: numpy>=1.21.0 in c:\\users\\mcuf8\\appdata\\local\\programs\\python\\python310\\lib\\site-packages (from pandas) (1.23.4)\n",
      "Requirement already satisfied: pytz>=2020.1 in c:\\users\\mcuf8\\appdata\\local\\programs\\python\\python310\\lib\\site-packages (from pandas) (2022.4)\n",
      "Requirement already satisfied: python-dateutil>=2.8.1 in c:\\users\\mcuf8\\appdata\\roaming\\python\\python310\\site-packages (from pandas) (2.8.2)\n",
      "Requirement already satisfied: six>=1.5 in c:\\users\\mcuf8\\appdata\\roaming\\python\\python310\\site-packages (from python-dateutil>=2.8.1->pandas) (1.16.0)\n",
      "Requirement already satisfied: matplotlib in c:\\users\\mcuf8\\appdata\\local\\programs\\python\\python310\\lib\\site-packages (3.6.1)\n",
      "Requirement already satisfied: pillow>=6.2.0 in c:\\users\\mcuf8\\appdata\\local\\programs\\python\\python310\\lib\\site-packages (from matplotlib) (9.2.0)\n",
      "Requirement already satisfied: fonttools>=4.22.0 in c:\\users\\mcuf8\\appdata\\local\\programs\\python\\python310\\lib\\site-packages (from matplotlib) (4.37.4)\n",
      "Requirement already satisfied: packaging>=20.0 in c:\\users\\mcuf8\\appdata\\roaming\\python\\python310\\site-packages (from matplotlib) (21.3)\n",
      "Requirement already satisfied: pyparsing>=2.2.1 in c:\\users\\mcuf8\\appdata\\roaming\\python\\python310\\site-packages (from matplotlib) (3.0.9)\n",
      "Requirement already satisfied: python-dateutil>=2.7 in c:\\users\\mcuf8\\appdata\\roaming\\python\\python310\\site-packages (from matplotlib) (2.8.2)\n",
      "Requirement already satisfied: contourpy>=1.0.1 in c:\\users\\mcuf8\\appdata\\local\\programs\\python\\python310\\lib\\site-packages (from matplotlib) (1.0.5)\n",
      "Requirement already satisfied: numpy>=1.19 in c:\\users\\mcuf8\\appdata\\local\\programs\\python\\python310\\lib\\site-packages (from matplotlib) (1.23.4)\n",
      "Requirement already satisfied: kiwisolver>=1.0.1 in c:\\users\\mcuf8\\appdata\\local\\programs\\python\\python310\\lib\\site-packages (from matplotlib) (1.4.4)\n",
      "Requirement already satisfied: cycler>=0.10 in c:\\users\\mcuf8\\appdata\\local\\programs\\python\\python310\\lib\\site-packages (from matplotlib) (0.11.0)\n",
      "Requirement already satisfied: six>=1.5 in c:\\users\\mcuf8\\appdata\\roaming\\python\\python310\\site-packages (from python-dateutil>=2.7->matplotlib) (1.16.0)\n",
      "Requirement already satisfied: scipy in c:\\users\\mcuf8\\appdata\\local\\programs\\python\\python310\\lib\\site-packages (1.9.3)\n",
      "Requirement already satisfied: numpy<1.26.0,>=1.18.5 in c:\\users\\mcuf8\\appdata\\local\\programs\\python\\python310\\lib\\site-packages (from scipy) (1.23.4)\n",
      "Requirement already satisfied: scikit-learn in c:\\users\\mcuf8\\appdata\\local\\programs\\python\\python310\\lib\\site-packages (1.1.2)\n",
      "Requirement already satisfied: joblib>=1.0.0 in c:\\users\\mcuf8\\appdata\\local\\programs\\python\\python310\\lib\\site-packages (from scikit-learn) (1.2.0)\n",
      "Requirement already satisfied: threadpoolctl>=2.0.0 in c:\\users\\mcuf8\\appdata\\local\\programs\\python\\python310\\lib\\site-packages (from scikit-learn) (3.1.0)\n",
      "Requirement already satisfied: scipy>=1.3.2 in c:\\users\\mcuf8\\appdata\\local\\programs\\python\\python310\\lib\\site-packages (from scikit-learn) (1.9.3)\n",
      "Requirement already satisfied: numpy>=1.17.3 in c:\\users\\mcuf8\\appdata\\local\\programs\\python\\python310\\lib\\site-packages (from scikit-learn) (1.23.4)\n",
      "Requirement already satisfied: seaborn in c:\\users\\mcuf8\\appdata\\local\\programs\\python\\python310\\lib\\site-packages (0.12.0)\n",
      "Requirement already satisfied: pandas>=0.25 in c:\\users\\mcuf8\\appdata\\local\\programs\\python\\python310\\lib\\site-packages (from seaborn) (1.5.0)\n",
      "Requirement already satisfied: numpy>=1.17 in c:\\users\\mcuf8\\appdata\\local\\programs\\python\\python310\\lib\\site-packages (from seaborn) (1.23.4)\n",
      "Requirement already satisfied: matplotlib>=3.1 in c:\\users\\mcuf8\\appdata\\local\\programs\\python\\python310\\lib\\site-packages (from seaborn) (3.6.1)\n",
      "Requirement already satisfied: fonttools>=4.22.0 in c:\\users\\mcuf8\\appdata\\local\\programs\\python\\python310\\lib\\site-packages (from matplotlib>=3.1->seaborn) (4.37.4)\n",
      "Requirement already satisfied: pyparsing>=2.2.1 in c:\\users\\mcuf8\\appdata\\roaming\\python\\python310\\site-packages (from matplotlib>=3.1->seaborn) (3.0.9)\n",
      "Requirement already satisfied: packaging>=20.0 in c:\\users\\mcuf8\\appdata\\roaming\\python\\python310\\site-packages (from matplotlib>=3.1->seaborn) (21.3)\n",
      "Requirement already satisfied: contourpy>=1.0.1 in c:\\users\\mcuf8\\appdata\\local\\programs\\python\\python310\\lib\\site-packages (from matplotlib>=3.1->seaborn) (1.0.5)\n",
      "Requirement already satisfied: pillow>=6.2.0 in c:\\users\\mcuf8\\appdata\\local\\programs\\python\\python310\\lib\\site-packages (from matplotlib>=3.1->seaborn) (9.2.0)\n",
      "Requirement already satisfied: cycler>=0.10 in c:\\users\\mcuf8\\appdata\\local\\programs\\python\\python310\\lib\\site-packages (from matplotlib>=3.1->seaborn) (0.11.0)\n",
      "Requirement already satisfied: kiwisolver>=1.0.1 in c:\\users\\mcuf8\\appdata\\local\\programs\\python\\python310\\lib\\site-packages (from matplotlib>=3.1->seaborn) (1.4.4)\n",
      "Requirement already satisfied: python-dateutil>=2.7 in c:\\users\\mcuf8\\appdata\\roaming\\python\\python310\\site-packages (from matplotlib>=3.1->seaborn) (2.8.2)\n",
      "Requirement already satisfied: pytz>=2020.1 in c:\\users\\mcuf8\\appdata\\local\\programs\\python\\python310\\lib\\site-packages (from pandas>=0.25->seaborn) (2022.4)\n",
      "Requirement already satisfied: six>=1.5 in c:\\users\\mcuf8\\appdata\\roaming\\python\\python310\\site-packages (from python-dateutil>=2.7->matplotlib>=3.1->seaborn) (1.16.0)\n"
     ]
    }
   ],
   "source": [
    "import sys\n",
    "\n",
    "!{sys.executable} -m pip install numpy\n",
    "!{sys.executable} -m pip install pandas\n",
    "!{sys.executable} -m pip install matplotlib\n",
    "!{sys.executable} -m pip install scipy\n",
    "!{sys.executable} -m pip install scikit-learn\n",
    "!{sys.executable} -m pip install seaborn"
   ]
  },
  {
   "cell_type": "code",
   "execution_count": 2,
   "id": "a88ebdd6",
   "metadata": {},
   "outputs": [],
   "source": [
    "import pandas as pd\n",
    "import pylab as pl\n",
    "import numpy as np\n",
    "import scipy.optimize as opt\n",
    "from sklearn import preprocessing\n",
    "%matplotlib inline \n",
    "import matplotlib.pyplot as plt"
   ]
  },
  {
   "cell_type": "code",
   "execution_count": 3,
   "id": "029a1bc9",
   "metadata": {},
   "outputs": [],
   "source": [
    "fileE = \"Data/ExcessWind.csv\" \n",
    "df = pd.read_csv(fileE, parse_dates=[1], na_values=\" \")"
   ]
  },
  {
   "cell_type": "code",
   "execution_count": 4,
   "id": "210c6a8b",
   "metadata": {},
   "outputs": [
    {
     "data": {
      "text/html": [
       "<div>\n",
       "<style scoped>\n",
       "    .dataframe tbody tr th:only-of-type {\n",
       "        vertical-align: middle;\n",
       "    }\n",
       "\n",
       "    .dataframe tbody tr th {\n",
       "        vertical-align: top;\n",
       "    }\n",
       "\n",
       "    .dataframe thead th {\n",
       "        text-align: right;\n",
       "    }\n",
       "</style>\n",
       "<table border=\"1\" class=\"dataframe\">\n",
       "  <thead>\n",
       "    <tr style=\"text-align: right;\">\n",
       "      <th></th>\n",
       "      <th>Unnamed: 0</th>\n",
       "      <th>date</th>\n",
       "      <th>Year</th>\n",
       "      <th>Month</th>\n",
       "      <th>Hour</th>\n",
       "      <th>rain_BEL</th>\n",
       "      <th>temp_BEL</th>\n",
       "      <th>wetb_BEL</th>\n",
       "      <th>dewpt_BEL</th>\n",
       "      <th>vappr_BEL</th>\n",
       "      <th>...</th>\n",
       "      <th>vappr_MAL</th>\n",
       "      <th>rhum_MAL</th>\n",
       "      <th>msl_MAL</th>\n",
       "      <th>wdsp_MAL</th>\n",
       "      <th>wddir_MAL</th>\n",
       "      <th>ActualDemandMW</th>\n",
       "      <th>ActualWindMW</th>\n",
       "      <th>ActualGenerationMW</th>\n",
       "      <th>RatioWindDemand</th>\n",
       "      <th>ExcessWind</th>\n",
       "    </tr>\n",
       "  </thead>\n",
       "  <tbody>\n",
       "    <tr>\n",
       "      <th>0</th>\n",
       "      <td>0</td>\n",
       "      <td>2017-07-01 00:00:00</td>\n",
       "      <td>2017</td>\n",
       "      <td>Jul</td>\n",
       "      <td>0:00</td>\n",
       "      <td>0.0</td>\n",
       "      <td>12.3</td>\n",
       "      <td>11.3</td>\n",
       "      <td>10.3</td>\n",
       "      <td>12.5</td>\n",
       "      <td>...</td>\n",
       "      <td>10.2</td>\n",
       "      <td>84</td>\n",
       "      <td>1016.8</td>\n",
       "      <td>10</td>\n",
       "      <td>270</td>\n",
       "      <td>2534.00</td>\n",
       "      <td>330.00</td>\n",
       "      <td>2709.00</td>\n",
       "      <td>0.130229</td>\n",
       "      <td>0.0</td>\n",
       "    </tr>\n",
       "    <tr>\n",
       "      <th>1</th>\n",
       "      <td>1</td>\n",
       "      <td>2017-07-01 01:00:00</td>\n",
       "      <td>2017</td>\n",
       "      <td>Jul</td>\n",
       "      <td>1:00</td>\n",
       "      <td>0.0</td>\n",
       "      <td>12.5</td>\n",
       "      <td>11.4</td>\n",
       "      <td>10.4</td>\n",
       "      <td>12.6</td>\n",
       "      <td>...</td>\n",
       "      <td>10.3</td>\n",
       "      <td>84</td>\n",
       "      <td>1016.2</td>\n",
       "      <td>10</td>\n",
       "      <td>260</td>\n",
       "      <td>2336.75</td>\n",
       "      <td>353.50</td>\n",
       "      <td>2689.75</td>\n",
       "      <td>0.151278</td>\n",
       "      <td>0.0</td>\n",
       "    </tr>\n",
       "    <tr>\n",
       "      <th>2</th>\n",
       "      <td>2</td>\n",
       "      <td>2017-07-01 02:00:00</td>\n",
       "      <td>2017</td>\n",
       "      <td>Jul</td>\n",
       "      <td>2:00</td>\n",
       "      <td>0.0</td>\n",
       "      <td>13.0</td>\n",
       "      <td>11.9</td>\n",
       "      <td>10.9</td>\n",
       "      <td>13.0</td>\n",
       "      <td>...</td>\n",
       "      <td>10.9</td>\n",
       "      <td>88</td>\n",
       "      <td>1015.8</td>\n",
       "      <td>10</td>\n",
       "      <td>220</td>\n",
       "      <td>2187.50</td>\n",
       "      <td>383.75</td>\n",
       "      <td>2680.75</td>\n",
       "      <td>0.175429</td>\n",
       "      <td>0.0</td>\n",
       "    </tr>\n",
       "    <tr>\n",
       "      <th>3</th>\n",
       "      <td>3</td>\n",
       "      <td>2017-07-01 03:00:00</td>\n",
       "      <td>2017</td>\n",
       "      <td>Jul</td>\n",
       "      <td>3:00</td>\n",
       "      <td>0.0</td>\n",
       "      <td>12.9</td>\n",
       "      <td>12.0</td>\n",
       "      <td>11.2</td>\n",
       "      <td>13.3</td>\n",
       "      <td>...</td>\n",
       "      <td>10.1</td>\n",
       "      <td>89</td>\n",
       "      <td>1015.4</td>\n",
       "      <td>10</td>\n",
       "      <td>190</td>\n",
       "      <td>2138.25</td>\n",
       "      <td>440.50</td>\n",
       "      <td>2762.50</td>\n",
       "      <td>0.206010</td>\n",
       "      <td>0.0</td>\n",
       "    </tr>\n",
       "    <tr>\n",
       "      <th>4</th>\n",
       "      <td>4</td>\n",
       "      <td>2017-07-01 04:00:00</td>\n",
       "      <td>2017</td>\n",
       "      <td>Jul</td>\n",
       "      <td>4:00</td>\n",
       "      <td>0.0</td>\n",
       "      <td>13.3</td>\n",
       "      <td>12.7</td>\n",
       "      <td>12.2</td>\n",
       "      <td>14.2</td>\n",
       "      <td>...</td>\n",
       "      <td>10.0</td>\n",
       "      <td>89</td>\n",
       "      <td>1015.2</td>\n",
       "      <td>10</td>\n",
       "      <td>190</td>\n",
       "      <td>2098.00</td>\n",
       "      <td>438.75</td>\n",
       "      <td>2550.75</td>\n",
       "      <td>0.209128</td>\n",
       "      <td>0.0</td>\n",
       "    </tr>\n",
       "  </tbody>\n",
       "</table>\n",
       "<p>5 rows × 73 columns</p>\n",
       "</div>"
      ],
      "text/plain": [
       "   Unnamed: 0                date  Year Month  Hour  rain_BEL  temp_BEL  \\\n",
       "0           0 2017-07-01 00:00:00  2017   Jul  0:00       0.0      12.3   \n",
       "1           1 2017-07-01 01:00:00  2017   Jul  1:00       0.0      12.5   \n",
       "2           2 2017-07-01 02:00:00  2017   Jul  2:00       0.0      13.0   \n",
       "3           3 2017-07-01 03:00:00  2017   Jul  3:00       0.0      12.9   \n",
       "4           4 2017-07-01 04:00:00  2017   Jul  4:00       0.0      13.3   \n",
       "\n",
       "   wetb_BEL  dewpt_BEL  vappr_BEL  ...  vappr_MAL  rhum_MAL  msl_MAL  \\\n",
       "0      11.3       10.3       12.5  ...       10.2        84   1016.8   \n",
       "1      11.4       10.4       12.6  ...       10.3        84   1016.2   \n",
       "2      11.9       10.9       13.0  ...       10.9        88   1015.8   \n",
       "3      12.0       11.2       13.3  ...       10.1        89   1015.4   \n",
       "4      12.7       12.2       14.2  ...       10.0        89   1015.2   \n",
       "\n",
       "   wdsp_MAL  wddir_MAL  ActualDemandMW  ActualWindMW  ActualGenerationMW  \\\n",
       "0        10        270         2534.00        330.00             2709.00   \n",
       "1        10        260         2336.75        353.50             2689.75   \n",
       "2        10        220         2187.50        383.75             2680.75   \n",
       "3        10        190         2138.25        440.50             2762.50   \n",
       "4        10        190         2098.00        438.75             2550.75   \n",
       "\n",
       "   RatioWindDemand  ExcessWind  \n",
       "0         0.130229         0.0  \n",
       "1         0.151278         0.0  \n",
       "2         0.175429         0.0  \n",
       "3         0.206010         0.0  \n",
       "4         0.209128         0.0  \n",
       "\n",
       "[5 rows x 73 columns]"
      ]
     },
     "execution_count": 4,
     "metadata": {},
     "output_type": "execute_result"
    }
   ],
   "source": [
    "df.head()"
   ]
  },
  {
   "cell_type": "code",
   "execution_count": 5,
   "id": "49de53f5",
   "metadata": {},
   "outputs": [
    {
     "data": {
      "text/plain": [
       "Index(['Unnamed: 0', 'date', 'Year', 'Month', 'Hour', 'rain_BEL', 'temp_BEL',\n",
       "       'wetb_BEL', 'dewpt_BEL', 'vappr_BEL', 'rhum_BEL', 'msl_BEL', 'wdsp_BEL',\n",
       "       'wddir_BEL', 'rain_DUB', 'temp_DUB', 'wetb_DUB', 'dewpt_DUB',\n",
       "       'vappr_DUB', 'rhum_DUB', 'msl_DUB', 'wdsp_DUB', 'wddir_DUB', 'ww_DUB',\n",
       "       'w_DUB', 'sun_DUB', 'vis_DUB', 'clht_DUB', 'clamt_DUB', 'rain', 'temp',\n",
       "       'wetb', 'dewpt', 'vappr', 'rhum', 'msl', 'wdsp', 'wddir', 'ww', 'w',\n",
       "       'sun', 'vis', 'clht', 'clamt', 'rain_COR', 'temp_COR', 'wetb_COR',\n",
       "       'dewpt_COR', 'vappr_COR', 'rhum_COR', 'msl_COR', 'wdsp_COR',\n",
       "       'wddir_COR', 'ww_COR', 'w_COR', 'sun_COR', 'vis_COR', 'clht_COR',\n",
       "       'clamt_COR', 'rain_MAL', 'temp_MAL', 'wetb_MAL', 'dewpt_MAL',\n",
       "       'vappr_MAL', 'rhum_MAL', 'msl_MAL', 'wdsp_MAL', 'wddir_MAL',\n",
       "       'ActualDemandMW', 'ActualWindMW', 'ActualGenerationMW',\n",
       "       'RatioWindDemand', 'ExcessWind'],\n",
       "      dtype='object')"
      ]
     },
     "execution_count": 5,
     "metadata": {},
     "output_type": "execute_result"
    }
   ],
   "source": [
    "df.columns"
   ]
  },
  {
   "cell_type": "code",
   "execution_count": 6,
   "id": "70b905ce",
   "metadata": {},
   "outputs": [],
   "source": [
    "df.drop(\"Unnamed: 0\", axis=1, inplace=True)"
   ]
  },
  {
   "cell_type": "code",
   "execution_count": 7,
   "id": "6e0a125a",
   "metadata": {},
   "outputs": [
    {
     "data": {
      "text/html": [
       "<div>\n",
       "<style scoped>\n",
       "    .dataframe tbody tr th:only-of-type {\n",
       "        vertical-align: middle;\n",
       "    }\n",
       "\n",
       "    .dataframe tbody tr th {\n",
       "        vertical-align: top;\n",
       "    }\n",
       "\n",
       "    .dataframe thead th {\n",
       "        text-align: right;\n",
       "    }\n",
       "</style>\n",
       "<table border=\"1\" class=\"dataframe\">\n",
       "  <thead>\n",
       "    <tr style=\"text-align: right;\">\n",
       "      <th></th>\n",
       "      <th>Year</th>\n",
       "      <th>rain_BEL</th>\n",
       "      <th>temp_BEL</th>\n",
       "      <th>wetb_BEL</th>\n",
       "      <th>dewpt_BEL</th>\n",
       "      <th>vappr_BEL</th>\n",
       "      <th>rhum_BEL</th>\n",
       "      <th>msl_BEL</th>\n",
       "      <th>wdsp_BEL</th>\n",
       "      <th>wddir_BEL</th>\n",
       "      <th>...</th>\n",
       "      <th>vappr_MAL</th>\n",
       "      <th>rhum_MAL</th>\n",
       "      <th>msl_MAL</th>\n",
       "      <th>wdsp_MAL</th>\n",
       "      <th>wddir_MAL</th>\n",
       "      <th>ActualDemandMW</th>\n",
       "      <th>ActualWindMW</th>\n",
       "      <th>ActualGenerationMW</th>\n",
       "      <th>RatioWindDemand</th>\n",
       "      <th>ExcessWind</th>\n",
       "    </tr>\n",
       "  </thead>\n",
       "  <tbody>\n",
       "    <tr>\n",
       "      <th>count</th>\n",
       "      <td>46032.000000</td>\n",
       "      <td>46032.000000</td>\n",
       "      <td>46032.000000</td>\n",
       "      <td>46032.000000</td>\n",
       "      <td>46032.000000</td>\n",
       "      <td>46032.000000</td>\n",
       "      <td>46032.000000</td>\n",
       "      <td>46032.000000</td>\n",
       "      <td>46032.000000</td>\n",
       "      <td>46032.000000</td>\n",
       "      <td>...</td>\n",
       "      <td>46032.000000</td>\n",
       "      <td>46032.000000</td>\n",
       "      <td>46032.000000</td>\n",
       "      <td>46032.000000</td>\n",
       "      <td>46032.000000</td>\n",
       "      <td>46032.000000</td>\n",
       "      <td>46032.000000</td>\n",
       "      <td>46032.000000</td>\n",
       "      <td>46032.000000</td>\n",
       "      <td>46032.000000</td>\n",
       "    </tr>\n",
       "    <tr>\n",
       "      <th>mean</th>\n",
       "      <td>2019.616267</td>\n",
       "      <td>0.151807</td>\n",
       "      <td>10.723614</td>\n",
       "      <td>9.304734</td>\n",
       "      <td>7.720831</td>\n",
       "      <td>10.915174</td>\n",
       "      <td>82.009798</td>\n",
       "      <td>1012.376195</td>\n",
       "      <td>11.899635</td>\n",
       "      <td>201.557829</td>\n",
       "      <td>...</td>\n",
       "      <td>10.585925</td>\n",
       "      <td>81.467436</td>\n",
       "      <td>1011.832921</td>\n",
       "      <td>14.749109</td>\n",
       "      <td>202.748957</td>\n",
       "      <td>3376.643191</td>\n",
       "      <td>1078.091160</td>\n",
       "      <td>3360.779436</td>\n",
       "      <td>0.320898</td>\n",
       "      <td>0.076382</td>\n",
       "    </tr>\n",
       "    <tr>\n",
       "      <th>std</th>\n",
       "      <td>1.557998</td>\n",
       "      <td>0.503334</td>\n",
       "      <td>4.001554</td>\n",
       "      <td>3.808060</td>\n",
       "      <td>4.268925</td>\n",
       "      <td>3.085598</td>\n",
       "      <td>11.174165</td>\n",
       "      <td>13.090315</td>\n",
       "      <td>6.598940</td>\n",
       "      <td>93.289032</td>\n",
       "      <td>...</td>\n",
       "      <td>3.023919</td>\n",
       "      <td>9.869051</td>\n",
       "      <td>13.172766</td>\n",
       "      <td>7.267588</td>\n",
       "      <td>86.520278</td>\n",
       "      <td>621.675679</td>\n",
       "      <td>811.867985</td>\n",
       "      <td>596.966791</td>\n",
       "      <td>0.234699</td>\n",
       "      <td>0.265611</td>\n",
       "    </tr>\n",
       "    <tr>\n",
       "      <th>min</th>\n",
       "      <td>2017.000000</td>\n",
       "      <td>0.000000</td>\n",
       "      <td>-3.300000</td>\n",
       "      <td>-4.400000</td>\n",
       "      <td>-9.700000</td>\n",
       "      <td>2.900000</td>\n",
       "      <td>24.000000</td>\n",
       "      <td>959.100000</td>\n",
       "      <td>0.000000</td>\n",
       "      <td>10.000000</td>\n",
       "      <td>...</td>\n",
       "      <td>3.400000</td>\n",
       "      <td>20.000000</td>\n",
       "      <td>956.600000</td>\n",
       "      <td>1.000000</td>\n",
       "      <td>0.000000</td>\n",
       "      <td>1934.500000</td>\n",
       "      <td>-44.000000</td>\n",
       "      <td>1506.000000</td>\n",
       "      <td>-0.011761</td>\n",
       "      <td>0.000000</td>\n",
       "    </tr>\n",
       "    <tr>\n",
       "      <th>25%</th>\n",
       "      <td>2018.000000</td>\n",
       "      <td>0.000000</td>\n",
       "      <td>7.900000</td>\n",
       "      <td>6.500000</td>\n",
       "      <td>4.600000</td>\n",
       "      <td>8.500000</td>\n",
       "      <td>74.000000</td>\n",
       "      <td>1004.000000</td>\n",
       "      <td>7.000000</td>\n",
       "      <td>150.000000</td>\n",
       "      <td>...</td>\n",
       "      <td>8.100000</td>\n",
       "      <td>75.000000</td>\n",
       "      <td>1003.200000</td>\n",
       "      <td>9.000000</td>\n",
       "      <td>150.000000</td>\n",
       "      <td>2865.187500</td>\n",
       "      <td>360.000000</td>\n",
       "      <td>2952.250000</td>\n",
       "      <td>0.110043</td>\n",
       "      <td>0.000000</td>\n",
       "    </tr>\n",
       "    <tr>\n",
       "      <th>50%</th>\n",
       "      <td>2020.000000</td>\n",
       "      <td>0.000000</td>\n",
       "      <td>10.800000</td>\n",
       "      <td>9.500000</td>\n",
       "      <td>8.000000</td>\n",
       "      <td>10.700000</td>\n",
       "      <td>84.000000</td>\n",
       "      <td>1014.000000</td>\n",
       "      <td>11.000000</td>\n",
       "      <td>220.000000</td>\n",
       "      <td>...</td>\n",
       "      <td>10.300000</td>\n",
       "      <td>83.000000</td>\n",
       "      <td>1013.500000</td>\n",
       "      <td>14.000000</td>\n",
       "      <td>210.000000</td>\n",
       "      <td>3433.000000</td>\n",
       "      <td>910.125000</td>\n",
       "      <td>3306.625000</td>\n",
       "      <td>0.275649</td>\n",
       "      <td>0.000000</td>\n",
       "    </tr>\n",
       "    <tr>\n",
       "      <th>75%</th>\n",
       "      <td>2021.000000</td>\n",
       "      <td>0.000000</td>\n",
       "      <td>13.700000</td>\n",
       "      <td>12.200000</td>\n",
       "      <td>10.900000</td>\n",
       "      <td>13.000000</td>\n",
       "      <td>91.000000</td>\n",
       "      <td>1021.600000</td>\n",
       "      <td>16.000000</td>\n",
       "      <td>270.000000</td>\n",
       "      <td>...</td>\n",
       "      <td>12.700000</td>\n",
       "      <td>89.000000</td>\n",
       "      <td>1021.000000</td>\n",
       "      <td>19.000000</td>\n",
       "      <td>270.000000</td>\n",
       "      <td>3849.000000</td>\n",
       "      <td>1704.500000</td>\n",
       "      <td>3728.250000</td>\n",
       "      <td>0.512831</td>\n",
       "      <td>0.000000</td>\n",
       "    </tr>\n",
       "    <tr>\n",
       "      <th>max</th>\n",
       "      <td>2022.000000</td>\n",
       "      <td>14.900000</td>\n",
       "      <td>28.000000</td>\n",
       "      <td>22.100000</td>\n",
       "      <td>19.400000</td>\n",
       "      <td>22.500000</td>\n",
       "      <td>100.000000</td>\n",
       "      <td>1050.600000</td>\n",
       "      <td>45.000000</td>\n",
       "      <td>360.000000</td>\n",
       "      <td>...</td>\n",
       "      <td>21.500000</td>\n",
       "      <td>100.000000</td>\n",
       "      <td>1051.200000</td>\n",
       "      <td>48.000000</td>\n",
       "      <td>360.000000</td>\n",
       "      <td>5335.750000</td>\n",
       "      <td>3570.000000</td>\n",
       "      <td>5955.500000</td>\n",
       "      <td>0.957785</td>\n",
       "      <td>1.000000</td>\n",
       "    </tr>\n",
       "  </tbody>\n",
       "</table>\n",
       "<p>8 rows × 69 columns</p>\n",
       "</div>"
      ],
      "text/plain": [
       "               Year      rain_BEL      temp_BEL      wetb_BEL     dewpt_BEL  \\\n",
       "count  46032.000000  46032.000000  46032.000000  46032.000000  46032.000000   \n",
       "mean    2019.616267      0.151807     10.723614      9.304734      7.720831   \n",
       "std        1.557998      0.503334      4.001554      3.808060      4.268925   \n",
       "min     2017.000000      0.000000     -3.300000     -4.400000     -9.700000   \n",
       "25%     2018.000000      0.000000      7.900000      6.500000      4.600000   \n",
       "50%     2020.000000      0.000000     10.800000      9.500000      8.000000   \n",
       "75%     2021.000000      0.000000     13.700000     12.200000     10.900000   \n",
       "max     2022.000000     14.900000     28.000000     22.100000     19.400000   \n",
       "\n",
       "          vappr_BEL      rhum_BEL       msl_BEL      wdsp_BEL     wddir_BEL  \\\n",
       "count  46032.000000  46032.000000  46032.000000  46032.000000  46032.000000   \n",
       "mean      10.915174     82.009798   1012.376195     11.899635    201.557829   \n",
       "std        3.085598     11.174165     13.090315      6.598940     93.289032   \n",
       "min        2.900000     24.000000    959.100000      0.000000     10.000000   \n",
       "25%        8.500000     74.000000   1004.000000      7.000000    150.000000   \n",
       "50%       10.700000     84.000000   1014.000000     11.000000    220.000000   \n",
       "75%       13.000000     91.000000   1021.600000     16.000000    270.000000   \n",
       "max       22.500000    100.000000   1050.600000     45.000000    360.000000   \n",
       "\n",
       "       ...     vappr_MAL      rhum_MAL       msl_MAL      wdsp_MAL  \\\n",
       "count  ...  46032.000000  46032.000000  46032.000000  46032.000000   \n",
       "mean   ...     10.585925     81.467436   1011.832921     14.749109   \n",
       "std    ...      3.023919      9.869051     13.172766      7.267588   \n",
       "min    ...      3.400000     20.000000    956.600000      1.000000   \n",
       "25%    ...      8.100000     75.000000   1003.200000      9.000000   \n",
       "50%    ...     10.300000     83.000000   1013.500000     14.000000   \n",
       "75%    ...     12.700000     89.000000   1021.000000     19.000000   \n",
       "max    ...     21.500000    100.000000   1051.200000     48.000000   \n",
       "\n",
       "          wddir_MAL  ActualDemandMW  ActualWindMW  ActualGenerationMW  \\\n",
       "count  46032.000000    46032.000000  46032.000000        46032.000000   \n",
       "mean     202.748957     3376.643191   1078.091160         3360.779436   \n",
       "std       86.520278      621.675679    811.867985          596.966791   \n",
       "min        0.000000     1934.500000    -44.000000         1506.000000   \n",
       "25%      150.000000     2865.187500    360.000000         2952.250000   \n",
       "50%      210.000000     3433.000000    910.125000         3306.625000   \n",
       "75%      270.000000     3849.000000   1704.500000         3728.250000   \n",
       "max      360.000000     5335.750000   3570.000000         5955.500000   \n",
       "\n",
       "       RatioWindDemand    ExcessWind  \n",
       "count     46032.000000  46032.000000  \n",
       "mean          0.320898      0.076382  \n",
       "std           0.234699      0.265611  \n",
       "min          -0.011761      0.000000  \n",
       "25%           0.110043      0.000000  \n",
       "50%           0.275649      0.000000  \n",
       "75%           0.512831      0.000000  \n",
       "max           0.957785      1.000000  \n",
       "\n",
       "[8 rows x 69 columns]"
      ]
     },
     "execution_count": 7,
     "metadata": {},
     "output_type": "execute_result"
    }
   ],
   "source": [
    "df.describe()"
   ]
  },
  {
   "cell_type": "code",
   "execution_count": 11,
   "id": "c027f33d",
   "metadata": {},
   "outputs": [],
   "source": [
    "cdf = df[['date','Hour','wdsp','wdsp_BEL','wdsp_DUB','wdsp_COR','wdsp_MAL','ActualWindMW','ActualDemandMW', 'ExcessWind']]"
   ]
  },
  {
   "cell_type": "code",
   "execution_count": 14,
   "id": "945322f2",
   "metadata": {},
   "outputs": [
    {
     "data": {
      "text/plain": [
       "0        0\n",
       "1        0\n",
       "2        0\n",
       "3        0\n",
       "4        0\n",
       "        ..\n",
       "46027    0\n",
       "46028    0\n",
       "46029    0\n",
       "46030    0\n",
       "46031    0\n",
       "Name: ExcessWind, Length: 46032, dtype: int32"
      ]
     },
     "execution_count": 14,
     "metadata": {},
     "output_type": "execute_result"
    }
   ],
   "source": [
    "cdf['ExcessWind'].astype('int')"
   ]
  },
  {
   "cell_type": "code",
   "execution_count": 15,
   "id": "c2031e28",
   "metadata": {},
   "outputs": [
    {
     "data": {
      "text/html": [
       "<div>\n",
       "<style scoped>\n",
       "    .dataframe tbody tr th:only-of-type {\n",
       "        vertical-align: middle;\n",
       "    }\n",
       "\n",
       "    .dataframe tbody tr th {\n",
       "        vertical-align: top;\n",
       "    }\n",
       "\n",
       "    .dataframe thead th {\n",
       "        text-align: right;\n",
       "    }\n",
       "</style>\n",
       "<table border=\"1\" class=\"dataframe\">\n",
       "  <thead>\n",
       "    <tr style=\"text-align: right;\">\n",
       "      <th></th>\n",
       "      <th>date</th>\n",
       "      <th>Hour</th>\n",
       "      <th>wdsp</th>\n",
       "      <th>wdsp_BEL</th>\n",
       "      <th>wdsp_DUB</th>\n",
       "      <th>wdsp_COR</th>\n",
       "      <th>wdsp_MAL</th>\n",
       "      <th>ActualWindMW</th>\n",
       "      <th>ActualDemandMW</th>\n",
       "      <th>ExcessWind</th>\n",
       "    </tr>\n",
       "  </thead>\n",
       "  <tbody>\n",
       "    <tr>\n",
       "      <th>0</th>\n",
       "      <td>2017-07-01 00:00:00</td>\n",
       "      <td>0:00</td>\n",
       "      <td>6</td>\n",
       "      <td>8</td>\n",
       "      <td>7</td>\n",
       "      <td>7</td>\n",
       "      <td>10</td>\n",
       "      <td>330.00</td>\n",
       "      <td>2534.00</td>\n",
       "      <td>0.0</td>\n",
       "    </tr>\n",
       "    <tr>\n",
       "      <th>1</th>\n",
       "      <td>2017-07-01 01:00:00</td>\n",
       "      <td>1:00</td>\n",
       "      <td>4</td>\n",
       "      <td>10</td>\n",
       "      <td>9</td>\n",
       "      <td>7</td>\n",
       "      <td>10</td>\n",
       "      <td>353.50</td>\n",
       "      <td>2336.75</td>\n",
       "      <td>0.0</td>\n",
       "    </tr>\n",
       "    <tr>\n",
       "      <th>2</th>\n",
       "      <td>2017-07-01 02:00:00</td>\n",
       "      <td>2:00</td>\n",
       "      <td>2</td>\n",
       "      <td>14</td>\n",
       "      <td>8</td>\n",
       "      <td>7</td>\n",
       "      <td>10</td>\n",
       "      <td>383.75</td>\n",
       "      <td>2187.50</td>\n",
       "      <td>0.0</td>\n",
       "    </tr>\n",
       "    <tr>\n",
       "      <th>3</th>\n",
       "      <td>2017-07-01 03:00:00</td>\n",
       "      <td>3:00</td>\n",
       "      <td>5</td>\n",
       "      <td>16</td>\n",
       "      <td>9</td>\n",
       "      <td>4</td>\n",
       "      <td>10</td>\n",
       "      <td>440.50</td>\n",
       "      <td>2138.25</td>\n",
       "      <td>0.0</td>\n",
       "    </tr>\n",
       "    <tr>\n",
       "      <th>4</th>\n",
       "      <td>2017-07-01 04:00:00</td>\n",
       "      <td>4:00</td>\n",
       "      <td>4</td>\n",
       "      <td>17</td>\n",
       "      <td>8</td>\n",
       "      <td>5</td>\n",
       "      <td>10</td>\n",
       "      <td>438.75</td>\n",
       "      <td>2098.00</td>\n",
       "      <td>0.0</td>\n",
       "    </tr>\n",
       "    <tr>\n",
       "      <th>...</th>\n",
       "      <td>...</td>\n",
       "      <td>...</td>\n",
       "      <td>...</td>\n",
       "      <td>...</td>\n",
       "      <td>...</td>\n",
       "      <td>...</td>\n",
       "      <td>...</td>\n",
       "      <td>...</td>\n",
       "      <td>...</td>\n",
       "      <td>...</td>\n",
       "    </tr>\n",
       "    <tr>\n",
       "      <th>46027</th>\n",
       "      <td>2022-09-30 19:00:00</td>\n",
       "      <td>19:00</td>\n",
       "      <td>17</td>\n",
       "      <td>14</td>\n",
       "      <td>14</td>\n",
       "      <td>11</td>\n",
       "      <td>21</td>\n",
       "      <td>2560.00</td>\n",
       "      <td>4033.50</td>\n",
       "      <td>0.0</td>\n",
       "    </tr>\n",
       "    <tr>\n",
       "      <th>46028</th>\n",
       "      <td>2022-09-30 20:00:00</td>\n",
       "      <td>20:00</td>\n",
       "      <td>16</td>\n",
       "      <td>13</td>\n",
       "      <td>15</td>\n",
       "      <td>9</td>\n",
       "      <td>20</td>\n",
       "      <td>2591.75</td>\n",
       "      <td>3943.75</td>\n",
       "      <td>0.0</td>\n",
       "    </tr>\n",
       "    <tr>\n",
       "      <th>46029</th>\n",
       "      <td>2022-09-30 21:00:00</td>\n",
       "      <td>21:00</td>\n",
       "      <td>15</td>\n",
       "      <td>15</td>\n",
       "      <td>15</td>\n",
       "      <td>7</td>\n",
       "      <td>22</td>\n",
       "      <td>2518.75</td>\n",
       "      <td>3682.00</td>\n",
       "      <td>0.0</td>\n",
       "    </tr>\n",
       "    <tr>\n",
       "      <th>46030</th>\n",
       "      <td>2022-09-30 22:00:00</td>\n",
       "      <td>22:00</td>\n",
       "      <td>14</td>\n",
       "      <td>14</td>\n",
       "      <td>14</td>\n",
       "      <td>10</td>\n",
       "      <td>23</td>\n",
       "      <td>2339.50</td>\n",
       "      <td>3389.50</td>\n",
       "      <td>0.0</td>\n",
       "    </tr>\n",
       "    <tr>\n",
       "      <th>46031</th>\n",
       "      <td>2022-09-30 23:00:00</td>\n",
       "      <td>23:00</td>\n",
       "      <td>12</td>\n",
       "      <td>15</td>\n",
       "      <td>11</td>\n",
       "      <td>10</td>\n",
       "      <td>24</td>\n",
       "      <td>2143.75</td>\n",
       "      <td>3130.25</td>\n",
       "      <td>0.0</td>\n",
       "    </tr>\n",
       "  </tbody>\n",
       "</table>\n",
       "<p>46032 rows × 10 columns</p>\n",
       "</div>"
      ],
      "text/plain": [
       "                     date   Hour  wdsp  wdsp_BEL  wdsp_DUB  wdsp_COR  \\\n",
       "0     2017-07-01 00:00:00   0:00     6         8         7         7   \n",
       "1     2017-07-01 01:00:00   1:00     4        10         9         7   \n",
       "2     2017-07-01 02:00:00   2:00     2        14         8         7   \n",
       "3     2017-07-01 03:00:00   3:00     5        16         9         4   \n",
       "4     2017-07-01 04:00:00   4:00     4        17         8         5   \n",
       "...                   ...    ...   ...       ...       ...       ...   \n",
       "46027 2022-09-30 19:00:00  19:00    17        14        14        11   \n",
       "46028 2022-09-30 20:00:00  20:00    16        13        15         9   \n",
       "46029 2022-09-30 21:00:00  21:00    15        15        15         7   \n",
       "46030 2022-09-30 22:00:00  22:00    14        14        14        10   \n",
       "46031 2022-09-30 23:00:00  23:00    12        15        11        10   \n",
       "\n",
       "       wdsp_MAL  ActualWindMW  ActualDemandMW  ExcessWind  \n",
       "0            10        330.00         2534.00         0.0  \n",
       "1            10        353.50         2336.75         0.0  \n",
       "2            10        383.75         2187.50         0.0  \n",
       "3            10        440.50         2138.25         0.0  \n",
       "4            10        438.75         2098.00         0.0  \n",
       "...         ...           ...             ...         ...  \n",
       "46027        21       2560.00         4033.50         0.0  \n",
       "46028        20       2591.75         3943.75         0.0  \n",
       "46029        22       2518.75         3682.00         0.0  \n",
       "46030        23       2339.50         3389.50         0.0  \n",
       "46031        24       2143.75         3130.25         0.0  \n",
       "\n",
       "[46032 rows x 10 columns]"
      ]
     },
     "execution_count": 15,
     "metadata": {},
     "output_type": "execute_result"
    }
   ],
   "source": [
    "cdf"
   ]
  },
  {
   "cell_type": "markdown",
   "id": "65b7e42c",
   "metadata": {},
   "source": [
    "## Scikit-learn"
   ]
  },
  {
   "cell_type": "markdown",
   "id": "d934bf78",
   "metadata": {},
   "source": [
    "### Creating train and test dataset\n",
    "\n",
    "Train/Test Split involves splitting the dataset into training and testing sets. 75% of the entire dataset will be used for training and 25% for testing. "
   ]
  },
  {
   "cell_type": "code",
   "execution_count": 17,
   "id": "e24046c6",
   "metadata": {},
   "outputs": [
    {
     "data": {
      "text/plain": [
       "array([[6.00000e+00, 8.00000e+00, 7.00000e+00, 7.00000e+00, 1.00000e+01,\n",
       "        3.30000e+02, 2.53400e+03],\n",
       "       [4.00000e+00, 1.00000e+01, 9.00000e+00, 7.00000e+00, 1.00000e+01,\n",
       "        3.53500e+02, 2.33675e+03],\n",
       "       [2.00000e+00, 1.40000e+01, 8.00000e+00, 7.00000e+00, 1.00000e+01,\n",
       "        3.83750e+02, 2.18750e+03],\n",
       "       [5.00000e+00, 1.60000e+01, 9.00000e+00, 4.00000e+00, 1.00000e+01,\n",
       "        4.40500e+02, 2.13825e+03],\n",
       "       [4.00000e+00, 1.70000e+01, 8.00000e+00, 5.00000e+00, 1.00000e+01,\n",
       "        4.38750e+02, 2.09800e+03]])"
      ]
     },
     "execution_count": 17,
     "metadata": {},
     "output_type": "execute_result"
    }
   ],
   "source": [
    "X = np.asarray(cdf[['wdsp','wdsp_BEL','wdsp_DUB','wdsp_COR','wdsp_MAL','ActualWindMW','ActualDemandMW']])\n",
    "X.shape\n",
    "X[0:5]"
   ]
  },
  {
   "cell_type": "code",
   "execution_count": 21,
   "id": "ac8594d7",
   "metadata": {},
   "outputs": [
    {
     "data": {
      "text/plain": [
       "array([0., 0., 0., 0., 0.])"
      ]
     },
     "execution_count": 21,
     "metadata": {},
     "output_type": "execute_result"
    }
   ],
   "source": [
    "y = np.asarray(cdf['ExcessWind'])\n",
    "y.shape\n",
    "y [0:5]"
   ]
  },
  {
   "cell_type": "code",
   "execution_count": 19,
   "id": "7847a4df",
   "metadata": {},
   "outputs": [
    {
     "data": {
      "text/plain": [
       "array([[-0.54627342, -0.59095513, -0.51935412, -0.52655744, -0.65347144,\n",
       "        -0.92145435, -1.35545329],\n",
       "       [-0.93215631, -0.28787285, -0.09341481, -0.52655744, -0.65347144,\n",
       "        -0.89250844, -1.67274436],\n",
       "       [-1.31803919,  0.31829169, -0.30638446, -0.52655744, -0.65347144,\n",
       "        -0.85524829, -1.91282392],\n",
       "       [-0.73921486,  0.62137397, -0.09341481, -1.11927739, -0.65347144,\n",
       "        -0.785347  , -1.99204615],\n",
       "       [-0.93215631,  0.77291511, -0.30638446, -0.92170407, -0.65347144,\n",
       "        -0.78750255, -2.05679122]])"
      ]
     },
     "execution_count": 19,
     "metadata": {},
     "output_type": "execute_result"
    }
   ],
   "source": [
    "from sklearn import preprocessing\n",
    "X = preprocessing.StandardScaler().fit(X).transform(X)\n",
    "X[0:5]"
   ]
  },
  {
   "cell_type": "code",
   "execution_count": 23,
   "id": "86084eb6",
   "metadata": {},
   "outputs": [
    {
     "name": "stdout",
     "output_type": "stream",
     "text": [
      "Train set: (36825, 7) (36825,)\n",
      "Test set: (9207, 7) (9207,)\n"
     ]
    }
   ],
   "source": [
    "from sklearn.model_selection import train_test_split\n",
    "X_train, X_test, y_train, y_test = train_test_split( X, y, test_size=0.2, random_state=4)\n",
    "print ('Train set:', X_train.shape,  y_train.shape)\n",
    "print ('Test set:', X_test.shape,  y_test.shape)"
   ]
  },
  {
   "cell_type": "code",
   "execution_count": 24,
   "id": "e5323496",
   "metadata": {
    "scrolled": true
   },
   "outputs": [
    {
     "data": {
      "text/html": [
       "<style>#sk-container-id-1 {color: black;background-color: white;}#sk-container-id-1 pre{padding: 0;}#sk-container-id-1 div.sk-toggleable {background-color: white;}#sk-container-id-1 label.sk-toggleable__label {cursor: pointer;display: block;width: 100%;margin-bottom: 0;padding: 0.3em;box-sizing: border-box;text-align: center;}#sk-container-id-1 label.sk-toggleable__label-arrow:before {content: \"▸\";float: left;margin-right: 0.25em;color: #696969;}#sk-container-id-1 label.sk-toggleable__label-arrow:hover:before {color: black;}#sk-container-id-1 div.sk-estimator:hover label.sk-toggleable__label-arrow:before {color: black;}#sk-container-id-1 div.sk-toggleable__content {max-height: 0;max-width: 0;overflow: hidden;text-align: left;background-color: #f0f8ff;}#sk-container-id-1 div.sk-toggleable__content pre {margin: 0.2em;color: black;border-radius: 0.25em;background-color: #f0f8ff;}#sk-container-id-1 input.sk-toggleable__control:checked~div.sk-toggleable__content {max-height: 200px;max-width: 100%;overflow: auto;}#sk-container-id-1 input.sk-toggleable__control:checked~label.sk-toggleable__label-arrow:before {content: \"▾\";}#sk-container-id-1 div.sk-estimator input.sk-toggleable__control:checked~label.sk-toggleable__label {background-color: #d4ebff;}#sk-container-id-1 div.sk-label input.sk-toggleable__control:checked~label.sk-toggleable__label {background-color: #d4ebff;}#sk-container-id-1 input.sk-hidden--visually {border: 0;clip: rect(1px 1px 1px 1px);clip: rect(1px, 1px, 1px, 1px);height: 1px;margin: -1px;overflow: hidden;padding: 0;position: absolute;width: 1px;}#sk-container-id-1 div.sk-estimator {font-family: monospace;background-color: #f0f8ff;border: 1px dotted black;border-radius: 0.25em;box-sizing: border-box;margin-bottom: 0.5em;}#sk-container-id-1 div.sk-estimator:hover {background-color: #d4ebff;}#sk-container-id-1 div.sk-parallel-item::after {content: \"\";width: 100%;border-bottom: 1px solid gray;flex-grow: 1;}#sk-container-id-1 div.sk-label:hover label.sk-toggleable__label {background-color: #d4ebff;}#sk-container-id-1 div.sk-serial::before {content: \"\";position: absolute;border-left: 1px solid gray;box-sizing: border-box;top: 0;bottom: 0;left: 50%;z-index: 0;}#sk-container-id-1 div.sk-serial {display: flex;flex-direction: column;align-items: center;background-color: white;padding-right: 0.2em;padding-left: 0.2em;position: relative;}#sk-container-id-1 div.sk-item {position: relative;z-index: 1;}#sk-container-id-1 div.sk-parallel {display: flex;align-items: stretch;justify-content: center;background-color: white;position: relative;}#sk-container-id-1 div.sk-item::before, #sk-container-id-1 div.sk-parallel-item::before {content: \"\";position: absolute;border-left: 1px solid gray;box-sizing: border-box;top: 0;bottom: 0;left: 50%;z-index: -1;}#sk-container-id-1 div.sk-parallel-item {display: flex;flex-direction: column;z-index: 1;position: relative;background-color: white;}#sk-container-id-1 div.sk-parallel-item:first-child::after {align-self: flex-end;width: 50%;}#sk-container-id-1 div.sk-parallel-item:last-child::after {align-self: flex-start;width: 50%;}#sk-container-id-1 div.sk-parallel-item:only-child::after {width: 0;}#sk-container-id-1 div.sk-dashed-wrapped {border: 1px dashed gray;margin: 0 0.4em 0.5em 0.4em;box-sizing: border-box;padding-bottom: 0.4em;background-color: white;}#sk-container-id-1 div.sk-label label {font-family: monospace;font-weight: bold;display: inline-block;line-height: 1.2em;}#sk-container-id-1 div.sk-label-container {text-align: center;}#sk-container-id-1 div.sk-container {/* jupyter's `normalize.less` sets `[hidden] { display: none; }` but bootstrap.min.css set `[hidden] { display: none !important; }` so we also need the `!important` here to be able to override the default hidden behavior on the sphinx rendered scikit-learn.org. See: https://github.com/scikit-learn/scikit-learn/issues/21755 */display: inline-block !important;position: relative;}#sk-container-id-1 div.sk-text-repr-fallback {display: none;}</style><div id=\"sk-container-id-1\" class=\"sk-top-container\"><div class=\"sk-text-repr-fallback\"><pre>LogisticRegression(C=0.01, solver=&#x27;liblinear&#x27;)</pre><b>In a Jupyter environment, please rerun this cell to show the HTML representation or trust the notebook. <br />On GitHub, the HTML representation is unable to render, please try loading this page with nbviewer.org.</b></div><div class=\"sk-container\" hidden><div class=\"sk-item\"><div class=\"sk-estimator sk-toggleable\"><input class=\"sk-toggleable__control sk-hidden--visually\" id=\"sk-estimator-id-1\" type=\"checkbox\" checked><label for=\"sk-estimator-id-1\" class=\"sk-toggleable__label sk-toggleable__label-arrow\">LogisticRegression</label><div class=\"sk-toggleable__content\"><pre>LogisticRegression(C=0.01, solver=&#x27;liblinear&#x27;)</pre></div></div></div></div></div>"
      ],
      "text/plain": [
       "LogisticRegression(C=0.01, solver='liblinear')"
      ]
     },
     "execution_count": 24,
     "metadata": {},
     "output_type": "execute_result"
    }
   ],
   "source": [
    "from sklearn.linear_model import LogisticRegression\n",
    "from sklearn.metrics import confusion_matrix\n",
    "LR = LogisticRegression(C=0.01, solver='liblinear').fit(X_train,y_train)\n",
    "LR"
   ]
  },
  {
   "cell_type": "code",
   "execution_count": 25,
   "id": "627b9433",
   "metadata": {},
   "outputs": [
    {
     "data": {
      "text/plain": [
       "array([0., 0., 0., ..., 0., 0., 0.])"
      ]
     },
     "execution_count": 25,
     "metadata": {},
     "output_type": "execute_result"
    }
   ],
   "source": [
    "yhat = LR.predict(X_test)\n",
    "yhat"
   ]
  },
  {
   "cell_type": "code",
   "execution_count": 26,
   "id": "6c53de96",
   "metadata": {},
   "outputs": [
    {
     "data": {
      "text/plain": [
       "array([[9.99669670e-01, 3.30329664e-04],\n",
       "       [9.53282595e-01, 4.67174052e-02],\n",
       "       [6.01605475e-01, 3.98394525e-01],\n",
       "       ...,\n",
       "       [9.99852948e-01, 1.47052459e-04],\n",
       "       [8.97872523e-01, 1.02127477e-01],\n",
       "       [9.53630422e-01, 4.63695783e-02]])"
      ]
     },
     "execution_count": 26,
     "metadata": {},
     "output_type": "execute_result"
    }
   ],
   "source": [
    "yhat_prob = LR.predict_proba(X_test)\n",
    "yhat_prob"
   ]
  },
  {
   "cell_type": "code",
   "execution_count": 33,
   "id": "f770e794",
   "metadata": {},
   "outputs": [
    {
     "name": "stdout",
     "output_type": "stream",
     "text": [
      "Intercept:  [-4.53]\n",
      "Coeficient:  [[ 0.07  0.17 -0.01  0.28  0.02  2.21 -1.43]]\n"
     ]
    }
   ],
   "source": [
    "print('Intercept: ', LR.intercept_)\n",
    "print('Coeficient: ', LR.coef_)"
   ]
  },
  {
   "cell_type": "markdown",
   "id": "5a33050c",
   "metadata": {},
   "source": [
    "## Evaluation"
   ]
  },
  {
   "cell_type": "markdown",
   "id": "780a2c58",
   "metadata": {},
   "source": [
    "### jaccard index\n",
    "\n",
    "Let's try the jaccard index for accuracy evaluation. we can define jaccard as the size of the intersection divided by the size of the union of the two label sets. If the entire set of predicted labels for a sample strictly matches with the true set of labels, then the subset accuracy is 1.0; otherwise it is 0.0."
   ]
  },
  {
   "cell_type": "code",
   "execution_count": 27,
   "id": "3aa23ca7",
   "metadata": {},
   "outputs": [
    {
     "data": {
      "text/plain": [
       "0.9695860965012577"
      ]
     },
     "execution_count": 27,
     "metadata": {},
     "output_type": "execute_result"
    }
   ],
   "source": [
    "from sklearn.metrics import jaccard_score\n",
    "jaccard_score(y_test, yhat,pos_label=0)"
   ]
  },
  {
   "cell_type": "markdown",
   "id": "80b7e38d",
   "metadata": {},
   "source": [
    "### confusion matrix\n",
    "\n",
    "Another way of looking at the accuracy of the classifier is to look at **confusion matrix**."
   ]
  },
  {
   "cell_type": "code",
   "execution_count": 28,
   "id": "1417a1a8",
   "metadata": {},
   "outputs": [
    {
     "name": "stdout",
     "output_type": "stream",
     "text": [
      "[[ 461  243]\n",
      " [  23 8480]]\n"
     ]
    }
   ],
   "source": [
    "from sklearn.metrics import classification_report, confusion_matrix\n",
    "import itertools\n",
    "def plot_confusion_matrix(cm, classes,\n",
    "                          normalize=False,\n",
    "                          title='Confusion matrix',\n",
    "                          cmap=plt.cm.Blues):\n",
    "    \"\"\"\n",
    "    This function prints and plots the confusion matrix.\n",
    "    Normalization can be applied by setting `normalize=True`.\n",
    "    \"\"\"\n",
    "    if normalize:\n",
    "        cm = cm.astype('float') / cm.sum(axis=1)[:, np.newaxis]\n",
    "        print(\"Normalized confusion matrix\")\n",
    "    else:\n",
    "        print('Confusion matrix, without normalization')\n",
    "\n",
    "    print(cm)\n",
    "\n",
    "    plt.imshow(cm, interpolation='nearest', cmap=cmap)\n",
    "    plt.title(title)\n",
    "    plt.colorbar()\n",
    "    tick_marks = np.arange(len(classes))\n",
    "    plt.xticks(tick_marks, classes, rotation=45)\n",
    "    plt.yticks(tick_marks, classes)\n",
    "\n",
    "    fmt = '.2f' if normalize else 'd'\n",
    "    thresh = cm.max() / 2.\n",
    "    for i, j in itertools.product(range(cm.shape[0]), range(cm.shape[1])):\n",
    "        plt.text(j, i, format(cm[i, j], fmt),\n",
    "                 horizontalalignment=\"center\",\n",
    "                 color=\"white\" if cm[i, j] > thresh else \"black\")\n",
    "\n",
    "    plt.tight_layout()\n",
    "    plt.ylabel('True label')\n",
    "    plt.xlabel('Predicted label')\n",
    "print(confusion_matrix(y_test, yhat, labels=[1,0]))"
   ]
  },
  {
   "cell_type": "code",
   "execution_count": 30,
   "id": "2d14311f",
   "metadata": {},
   "outputs": [
    {
     "name": "stdout",
     "output_type": "stream",
     "text": [
      "Confusion matrix, without normalization\n",
      "[[ 461  243]\n",
      " [  23 8480]]\n"
     ]
    },
    {
     "data": {
      "image/png": "[encoded data removed]",
      "text/plain": [
       "<Figure size 640x480 with 2 Axes>"
      ]
     },
     "metadata": {},
     "output_type": "display_data"
    }
   ],
   "source": [
    "# Compute confusion matrix\n",
    "cnf_matrix = confusion_matrix(y_test, yhat, labels=[1,0])\n",
    "np.set_printoptions(precision=2)\n",
    "\n",
    "\n",
    "# Plot non-normalized confusion matrix\n",
    "plt.figure()\n",
    "plot_confusion_matrix(cnf_matrix, classes=['ExcessWind=1','ExcessWind=0'],normalize= False,  title='Confusion matrix')"
   ]
  },
  {
   "cell_type": "code",
   "execution_count": 29,
   "id": "82c48a36",
   "metadata": {},
   "outputs": [
    {
     "name": "stdout",
     "output_type": "stream",
     "text": [
      "              precision    recall  f1-score   support\n",
      "\n",
      "         0.0       0.97      1.00      0.98      8503\n",
      "         1.0       0.95      0.65      0.78       704\n",
      "\n",
      "    accuracy                           0.97      9207\n",
      "   macro avg       0.96      0.83      0.88      9207\n",
      "weighted avg       0.97      0.97      0.97      9207\n",
      "\n"
     ]
    }
   ],
   "source": [
    "print (classification_report(y_test, yhat))"
   ]
  },
  {
   "cell_type": "code",
   "execution_count": 31,
   "id": "7db0c1b3",
   "metadata": {},
   "outputs": [
    {
     "data": {
      "text/plain": [
       "0.09814357840584575"
      ]
     },
     "execution_count": 31,
     "metadata": {},
     "output_type": "execute_result"
    }
   ],
   "source": [
    "from sklearn.metrics import log_loss\n",
    "log_loss(y_test, yhat_prob)"
   ]
  }
 ],
 "metadata": {
  "kernelspec": {
   "display_name": "Python 3 (ipykernel)",
   "language": "python",
   "name": "python3"
  },
  "language_info": {
   "codemirror_mode": {
    "name": "ipython",
    "version": 3
   },
   "file_extension": ".py",
   "mimetype": "text/x-python",
   "name": "python",
   "nbconvert_exporter": "python",
   "pygments_lexer": "ipython3",
   "version": "3.10.8"
  }
 },
 "nbformat": 4,
 "nbformat_minor": 5
}
